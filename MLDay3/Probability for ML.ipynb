{
 "cells": [
  {
   "cell_type": "code",
   "execution_count": 9,
   "metadata": {},
   "outputs": [
    {
     "name": "stdout",
     "output_type": "stream",
     "text": [
      "Probability P(B|A) = 0.0303030303030303\n"
     ]
    }
   ],
   "source": [
    "'''\n",
    "Q.1 - Consider the below given probabilities: \n",
    "P(A) = 11 / 36\n",
    "P(B) = 6 / 36\n",
    "P(A|B) = 2 / 36\n",
    "Write a function in Python which takes 3 probabilities as argument and outputs the Conditional probability P(B|A).\n",
    "'''\n",
    "\n",
    "def fun1(PA,PB,PAB):\n",
    "    '''fun1 takes 3 prob. as argument and outputs the conditional probability'''\n",
    "    PBA = ((PAB*PB)/PA)\n",
    "    return PBA\n",
    "print(\"Probability P(B|A) = \" + str(fun1(11/36,6/36,2/36)))\n"
   ]
  },
  {
   "cell_type": "code",
   "execution_count": 15,
   "metadata": {},
   "outputs": [
    {
     "name": "stdout",
     "output_type": "stream",
     "text": [
      "Probability of black ball that it was drawn from Bag 1 is = 0.5833333333333334\n"
     ]
    }
   ],
   "source": [
    "'''\n",
    "Q.2 - Bag I contains 4 white and 6 black balls \n",
    "while another Bag II contains 4 white and 3 black balls. \n",
    "One ball is drawn at random from one of the bags and it is found to be black. \n",
    "Find the probability that it was drawn from Bag I.\n",
    "'''\n",
    "\n",
    "Pb = 1/2.0\n",
    "Pb1 = 6/10.0\n",
    "Pb2 = 3/7.0\n",
    "P= (Pb*Pb1)/(Pb1*Pb + Pb2*Pb)\n",
    "print(\"Probability of black ball that it was drawn from Bag 1 is = \" + str(Pt))\n"
   ]
  },
  {
   "cell_type": "code",
   "execution_count": 26,
   "metadata": {},
   "outputs": [
    {
     "name": "stdout",
     "output_type": "stream",
     "text": [
      "Probability Man Speaks True: 0.6666666666666666\n",
      "Probability Man Speaks False: 0.3333333333333333\n",
      "Probability Number is True: 0.16666666666666666\n",
      "Probability Nunber is False: 0.8333333333333334\n",
      "Probability that the Number obtained is actually a 4 = 0.2857142857142857\n"
     ]
    }
   ],
   "source": [
    "'''\n",
    "Q.3 - A man is known to speak truth 2 out of 3 times. \n",
    "He throws a die and reports that number obtained is a four. \n",
    "Find the probability that the number obtained is actually a four.\n",
    "'''\n",
    "\n",
    "Pt = 2/3.0\n",
    "print('Probability Man Speaks True:',Pt)\n",
    "Pf = 1/3.0\n",
    "print('Probability Man Speaks False:',Pf)\n",
    "Pnt = 1/6.0\n",
    "print('Probability Number is True:',Pnt)\n",
    "Pnf = 5/6.0\n",
    "print('Probability Nunber is False:',Pnf)\n",
    "p = ((Pt*Pnt)/(Pt*Pnt + Pf*Pnf))\n",
    "print(\"Probability that the Number obtained is actually a 4 = \" + str(p))"
   ]
  },
  {
   "cell_type": "code",
   "execution_count": null,
   "metadata": {},
   "outputs": [],
   "source": []
  }
 ],
 "metadata": {
  "kernelspec": {
   "display_name": "Python 3",
   "language": "python",
   "name": "python3"
  },
  "language_info": {
   "codemirror_mode": {
    "name": "ipython",
    "version": 3
   },
   "file_extension": ".py",
   "mimetype": "text/x-python",
   "name": "python",
   "nbconvert_exporter": "python",
   "pygments_lexer": "ipython3",
   "version": "3.6.5"
  }
 },
 "nbformat": 4,
 "nbformat_minor": 2
}
